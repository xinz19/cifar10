{
 "cells": [
  {
   "cell_type": "code",
   "execution_count": 38,
   "metadata": {},
   "outputs": [],
   "source": [
    "from __future__ import print_function\n",
    "import keras\n",
    "from keras.datasets import cifar10\n",
    "from keras.preprocessing.image import ImageDataGenerator\n",
    "from keras.models import Sequential\n",
    "from keras.layers import Dense, Dropout, Activation, Flatten\n",
    "from keras.layers import Conv2D, MaxPooling2D\n",
    "import matplotlib.pyplot as plt\n",
    "import numpy as np"
   ]
  },
  {
   "cell_type": "code",
   "execution_count": 40,
   "metadata": {},
   "outputs": [
    {
     "name": "stdout",
     "output_type": "stream",
     "text": [
      "x_train shape: (50000, 32, 32, 3)\n",
      "50000 train samples\n",
      "10000 test samples\n"
     ]
    }
   ],
   "source": [
    "\n",
    "(x_train, y_train), (x_test, y_test) = cifar10.load_data()\n",
    "print('x_train shape:', x_train.shape)\n",
    "print(x_train.shape[0], 'train samples')\n",
    "print(x_test.shape[0], 'test samples')"
   ]
  },
  {
   "cell_type": "code",
   "execution_count": 41,
   "metadata": {},
   "outputs": [],
   "source": [
    "# Convert class vectors to binary class matrices.\n",
    "y_train = keras.utils.to_categorical(y_train, num_classes)\n",
    "y_test = keras.utils.to_categorical(y_test, num_classes)  \n",
    "\n",
    "x_train = x_train.astype('float32')\n",
    "x_test = x_test.astype('float32')\n",
    "x_train /= 255\n",
    "x_test /= 255"
   ]
  },
  {
   "cell_type": "code",
   "execution_count": 42,
   "metadata": {},
   "outputs": [],
   "source": [
    "model1 = Sequential()"
   ]
  },
  {
   "cell_type": "code",
   "execution_count": 43,
   "metadata": {},
   "outputs": [],
   "source": [
    "model1.add(Conv2D(32, (3, 3), padding='same',\n",
    "                 input_shape=x_train.shape[1:]))\n",
    "model1.add(Activation('relu'))\n",
    "model1.add(Conv2D(32, (3, 3)))\n",
    "model1.add(Activation('relu'))\n",
    "model1.add(MaxPooling2D(pool_size=(2, 2)))\n",
    "\n",
    "model1.add(Flatten())\n",
    "model1.add(Dense(512))\n",
    "model1.add(Activation('relu'))\n",
    "model1.add(Dropout(0.25))\n",
    "model1.add(Dense(num_classes))\n",
    "model1.add(Activation('softmax'))\n"
   ]
  },
  {
   "cell_type": "code",
   "execution_count": 44,
   "metadata": {},
   "outputs": [],
   "source": [
    "\n",
    "opt = keras.optimizers.rmsprop(lr=0.0001, decay=1e-6)\n",
    "\n",
    "model1.compile(loss='categorical_crossentropy',\n",
    "              optimizer=opt,\n",
    "              metrics=['accuracy'])"
   ]
  },
  {
   "cell_type": "code",
   "execution_count": 45,
   "metadata": {},
   "outputs": [
    {
     "name": "stdout",
     "output_type": "stream",
     "text": [
      "Train on 50000 samples, validate on 10000 samples\n",
      "Epoch 1/5\n",
      "50000/50000 [==============================] - 134s 3ms/step - loss: 1.6310 - acc: 0.4174 - val_loss: 1.3728 - val_acc: 0.5084\n",
      "Epoch 2/5\n",
      "50000/50000 [==============================] - 137s 3ms/step - loss: 1.2880 - acc: 0.5465 - val_loss: 1.2127 - val_acc: 0.5748\n",
      "Epoch 3/5\n",
      "50000/50000 [==============================] - 134s 3ms/step - loss: 1.1431 - acc: 0.6023 - val_loss: 1.0951 - val_acc: 0.6183\n",
      "Epoch 4/5\n",
      "50000/50000 [==============================] - 142s 3ms/step - loss: 1.0367 - acc: 0.6391 - val_loss: 1.0413 - val_acc: 0.6390\n",
      "Epoch 5/5\n",
      "50000/50000 [==============================] - 148s 3ms/step - loss: 0.9589 - acc: 0.6671 - val_loss: 1.0168 - val_acc: 0.6513\n"
     ]
    }
   ],
   "source": [
    "result1_1 = model1.fit(x_train, y_train,\n",
    "              batch_size=batch_size,\n",
    "              epochs=5,\n",
    "              validation_data=(x_test, y_test),\n",
    "              shuffle=True)"
   ]
  },
  {
   "cell_type": "code",
   "execution_count": 46,
   "metadata": {},
   "outputs": [],
   "source": [
    "model2 = Sequential()"
   ]
  },
  {
   "cell_type": "code",
   "execution_count": 47,
   "metadata": {},
   "outputs": [],
   "source": [
    "model2.add(Conv2D(32, (2, 2), padding='same',\n",
    "                 input_shape=x_train.shape[1:]))\n",
    "model2.add(Activation('relu'))\n",
    "model2.add(Conv2D(32, (2, 2)))\n",
    "model2.add(Activation('relu'))\n",
    "model2.add(MaxPooling2D(pool_size=(2, 2)))\n",
    "\n",
    "model2.add(Flatten())\n",
    "model2.add(Dense(512))\n",
    "model2.add(Activation('relu'))\n",
    "model2.add(Dropout(0.25))\n",
    "model2.add(Dense(num_classes))\n",
    "model2.add(Activation('softmax'))"
   ]
  },
  {
   "cell_type": "code",
   "execution_count": 48,
   "metadata": {},
   "outputs": [],
   "source": [
    "\n",
    "opt = keras.optimizers.rmsprop(lr=0.0001, decay=1e-6)\n",
    "\n",
    "model2.compile(loss='categorical_crossentropy',\n",
    "              optimizer=opt,\n",
    "              metrics=['accuracy'])"
   ]
  },
  {
   "cell_type": "code",
   "execution_count": 49,
   "metadata": {},
   "outputs": [
    {
     "name": "stdout",
     "output_type": "stream",
     "text": [
      "Train on 50000 samples, validate on 10000 samples\n",
      "Epoch 1/5\n",
      "50000/50000 [==============================] - 115s 2ms/step - loss: 1.6886 - acc: 0.4008 - val_loss: 1.4282 - val_acc: 0.5037\n",
      "Epoch 2/5\n",
      "50000/50000 [==============================] - 110s 2ms/step - loss: 1.3593 - acc: 0.5202 - val_loss: 1.3010 - val_acc: 0.5416\n",
      "Epoch 3/5\n",
      "50000/50000 [==============================] - 115s 2ms/step - loss: 1.2211 - acc: 0.5726 - val_loss: 1.1906 - val_acc: 0.5823\n",
      "Epoch 4/5\n",
      "50000/50000 [==============================] - 113s 2ms/step - loss: 1.1238 - acc: 0.6052 - val_loss: 1.1098 - val_acc: 0.6142\n",
      "Epoch 5/5\n",
      "50000/50000 [==============================] - 110s 2ms/step - loss: 1.0465 - acc: 0.6364 - val_loss: 1.0990 - val_acc: 0.6182\n"
     ]
    }
   ],
   "source": [
    "result1_2 = model2.fit(x_train, y_train,\n",
    "              batch_size=batch_size,\n",
    "              epochs=5,\n",
    "              validation_data=(x_test, y_test),\n",
    "              shuffle=True)"
   ]
  },
  {
   "cell_type": "code",
   "execution_count": 50,
   "metadata": {},
   "outputs": [],
   "source": [
    "model3 = Sequential()"
   ]
  },
  {
   "cell_type": "code",
   "execution_count": 51,
   "metadata": {},
   "outputs": [],
   "source": [
    "model3.add(Conv2D(32, (4, 4), padding='same',\n",
    "                 input_shape=x_train.shape[1:]))\n",
    "model3.add(Activation('relu'))\n",
    "model3.add(Conv2D(32, (4, 4)))\n",
    "model3.add(Activation('relu'))\n",
    "model3.add(MaxPooling2D(pool_size=(2, 2)))\n",
    "\n",
    "model3.add(Flatten())\n",
    "model3.add(Dense(512))\n",
    "model3.add(Activation('relu'))\n",
    "model3.add(Dropout(0.25))\n",
    "model3.add(Dense(num_classes))\n",
    "model3.add(Activation('softmax'))"
   ]
  },
  {
   "cell_type": "code",
   "execution_count": 52,
   "metadata": {},
   "outputs": [],
   "source": [
    "\n",
    "opt = keras.optimizers.rmsprop(lr=0.0001, decay=1e-6)\n",
    "\n",
    "model3.compile(loss='categorical_crossentropy',\n",
    "              optimizer=opt,\n",
    "              metrics=['accuracy'])"
   ]
  },
  {
   "cell_type": "code",
   "execution_count": 53,
   "metadata": {},
   "outputs": [
    {
     "name": "stdout",
     "output_type": "stream",
     "text": [
      "Train on 50000 samples, validate on 10000 samples\n",
      "Epoch 1/5\n",
      "50000/50000 [==============================] - 198s 4ms/step - loss: 1.6309 - acc: 0.4170 - val_loss: 1.3777 - val_acc: 0.5095\n",
      "Epoch 2/5\n",
      "50000/50000 [==============================] - 189s 4ms/step - loss: 1.2874 - acc: 0.5466 - val_loss: 1.2377 - val_acc: 0.5631\n",
      "Epoch 3/5\n",
      "50000/50000 [==============================] - 185s 4ms/step - loss: 1.1360 - acc: 0.6020 - val_loss: 1.1165 - val_acc: 0.6107\n",
      "Epoch 4/5\n",
      "50000/50000 [==============================] - 185s 4ms/step - loss: 1.0289 - acc: 0.6416 - val_loss: 1.0575 - val_acc: 0.6307\n",
      "Epoch 5/5\n",
      "50000/50000 [==============================] - 199s 4ms/step - loss: 0.9471 - acc: 0.6697 - val_loss: 0.9881 - val_acc: 0.6593\n"
     ]
    }
   ],
   "source": [
    "result1_3 = model3.fit(x_train, y_train,\n",
    "              batch_size=batch_size,\n",
    "              epochs=5,\n",
    "              validation_data=(x_test, y_test),\n",
    "              shuffle=True)"
   ]
  },
  {
   "cell_type": "code",
   "execution_count": 79,
   "metadata": {},
   "outputs": [
    {
     "data": {
      "image/png": "[encoded data removed]",
      "text/plain": [
       "<Figure size 504x288 with 1 Axes>"
      ]
     },
     "metadata": {},
     "output_type": "display_data"
    }
   ],
   "source": [
    "plt.figure\n",
    "from matplotlib.ticker import PercentFormatter\n",
    "\n",
    "fig = plt.figure(1, (7,4))\n",
    "ax = fig.add_subplot(1,1,1)\n",
    "\n",
    "plt.plot(result1_1.epoch,result1_1.history['val_acc'],label=\"3 by 3, 695s\")\n",
    "plt.plot(result1_2.epoch,result1_2.history['val_acc'],label=\"2 by 2, 563s\")\n",
    "plt.plot(result1_3.epoch,result1_3.history['val_acc'],label=\"4 by 4, 956s\")\n",
    "\n",
    "\n",
    "\n",
    "\n",
    "\n",
    "\n",
    "\n",
    "plt.legend(loc='best')\n",
    "\n",
    "ax.yaxis.set_major_formatter(PercentFormatter(1.0))\n",
    "plt.title('CNN Accuracy with Different Filters')\n",
    "plt.xlabel('Epoch')\n",
    "plt.ylabel('Accuracy')\n",
    "plt.show()"
   ]
  },
  {
   "cell_type": "code",
   "execution_count": 60,
   "metadata": {},
   "outputs": [],
   "source": [
    "model1 = Sequential()"
   ]
  },
  {
   "cell_type": "code",
   "execution_count": 61,
   "metadata": {},
   "outputs": [],
   "source": [
    "model1.add(Conv2D(32, (3, 3), padding='same',\n",
    "                 input_shape=x_train.shape[1:]))\n",
    "model1.add(Activation('relu'))\n",
    "model1.add(Conv2D(32, (3, 3)))\n",
    "model1.add(Activation('relu'))\n",
    "model1.add(MaxPooling2D(pool_size=(2, 2)))\n",
    "\n",
    "model1.add(Flatten())\n",
    "model1.add(Dense(512))\n",
    "model1.add(Activation('relu'))\n",
    "model1.add(Dropout(0.25))\n",
    "model1.add(Dense(num_classes))\n",
    "model1.add(Activation('softmax'))"
   ]
  },
  {
   "cell_type": "code",
   "execution_count": 62,
   "metadata": {},
   "outputs": [],
   "source": [
    "# initiate RMSprop optimizer\n",
    "opt = keras.optimizers.rmsprop(lr=0.0001, decay=1e-6)\n",
    "\n",
    "# Let's train the model using RMSprop\n",
    "model1.compile(loss='categorical_crossentropy',\n",
    "              optimizer=opt,\n",
    "              metrics=['accuracy'])"
   ]
  },
  {
   "cell_type": "code",
   "execution_count": 63,
   "metadata": {},
   "outputs": [
    {
     "name": "stdout",
     "output_type": "stream",
     "text": [
      "Train on 50000 samples, validate on 10000 samples\n",
      "Epoch 1/5\n",
      "50000/50000 [==============================] - 139s 3ms/step - loss: 1.6266 - acc: 0.4219 - val_loss: 1.4946 - val_acc: 0.4702\n",
      "Epoch 2/5\n",
      "50000/50000 [==============================] - 129s 3ms/step - loss: 1.2973 - acc: 0.5435 - val_loss: 1.2424 - val_acc: 0.5654\n",
      "Epoch 3/5\n",
      "50000/50000 [==============================] - 116s 2ms/step - loss: 1.1511 - acc: 0.5972 - val_loss: 1.1166 - val_acc: 0.6082\n",
      "Epoch 4/5\n",
      "50000/50000 [==============================] - 125s 2ms/step - loss: 1.0497 - acc: 0.6348 - val_loss: 1.1253 - val_acc: 0.6013\n",
      "Epoch 5/5\n",
      "50000/50000 [==============================] - 139s 3ms/step - loss: 0.9735 - acc: 0.6623 - val_loss: 1.0267 - val_acc: 0.6454\n"
     ]
    }
   ],
   "source": [
    "result1_1_1 = model1.fit(x_train, y_train,\n",
    "              batch_size=batch_size,\n",
    "              epochs=5,\n",
    "              validation_data=(x_test, y_test),\n",
    "              shuffle=True)"
   ]
  },
  {
   "cell_type": "code",
   "execution_count": 64,
   "metadata": {},
   "outputs": [],
   "source": [
    "\n",
    "opt = keras.optimizers.rmsprop(lr=0.01, decay=1e-6)\n",
    "\n",
    "\n",
    "model1.compile(loss='categorical_crossentropy',\n",
    "              optimizer=opt,\n",
    "              metrics=['accuracy'])"
   ]
  },
  {
   "cell_type": "code",
   "execution_count": 65,
   "metadata": {},
   "outputs": [
    {
     "name": "stdout",
     "output_type": "stream",
     "text": [
      "Train on 50000 samples, validate on 10000 samples\n",
      "Epoch 1/5\n",
      "50000/50000 [==============================] - 131s 3ms/step - loss: 14.4982 - acc: 0.1004 - val_loss: 14.5063 - val_acc: 0.1000\n",
      "Epoch 2/5\n",
      "50000/50000 [==============================] - 127s 3ms/step - loss: 14.5063 - acc: 0.1000 - val_loss: 14.5063 - val_acc: 0.1000\n",
      "Epoch 3/5\n",
      "50000/50000 [==============================] - 130s 3ms/step - loss: 14.5063 - acc: 0.1000 - val_loss: 14.5063 - val_acc: 0.1000\n",
      "Epoch 4/5\n",
      "50000/50000 [==============================] - 123s 2ms/step - loss: 14.5063 - acc: 0.1000 - val_loss: 14.5063 - val_acc: 0.1000\n",
      "Epoch 5/5\n",
      "50000/50000 [==============================] - 132s 3ms/step - loss: 14.5063 - acc: 0.1000 - val_loss: 14.5063 - val_acc: 0.1000\n"
     ]
    }
   ],
   "source": [
    "result1_1_2 = model1.fit(x_train, y_train,\n",
    "              batch_size=batch_size,\n",
    "              epochs=5,\n",
    "              validation_data=(x_test, y_test),\n",
    "              shuffle=True)"
   ]
  },
  {
   "cell_type": "code",
   "execution_count": 66,
   "metadata": {},
   "outputs": [],
   "source": [
    "\n",
    "opt = keras.optimizers.rmsprop(lr=0.001, decay=1e-6)\n",
    "\n",
    "\n",
    "model1.compile(loss='categorical_crossentropy',\n",
    "              optimizer=opt,\n",
    "              metrics=['accuracy'])"
   ]
  },
  {
   "cell_type": "code",
   "execution_count": 67,
   "metadata": {},
   "outputs": [
    {
     "name": "stdout",
     "output_type": "stream",
     "text": [
      "Train on 50000 samples, validate on 10000 samples\n",
      "Epoch 1/5\n",
      "50000/50000 [==============================] - 130s 3ms/step - loss: 14.5063 - acc: 0.1000 - val_loss: 14.5063 - val_acc: 0.1000\n",
      "Epoch 2/5\n",
      "50000/50000 [==============================] - 119s 2ms/step - loss: 14.5063 - acc: 0.1000 - val_loss: 14.5063 - val_acc: 0.1000\n",
      "Epoch 3/5\n",
      "50000/50000 [==============================] - 126s 3ms/step - loss: 14.5063 - acc: 0.1000 - val_loss: 14.5063 - val_acc: 0.1000\n",
      "Epoch 4/5\n",
      "50000/50000 [==============================] - 125s 3ms/step - loss: 14.5063 - acc: 0.1000 - val_loss: 14.5063 - val_acc: 0.1000\n",
      "Epoch 5/5\n",
      "50000/50000 [==============================] - 126s 3ms/step - loss: 14.5063 - acc: 0.1000 - val_loss: 14.5063 - val_acc: 0.1000\n"
     ]
    }
   ],
   "source": [
    "result1_1_3 = model1.fit(x_train, y_train,\n",
    "              batch_size=batch_size,\n",
    "              epochs=5,\n",
    "              validation_data=(x_test, y_test),\n",
    "              shuffle=True)"
   ]
  },
  {
   "cell_type": "code",
   "execution_count": 80,
   "metadata": {},
   "outputs": [
    {
     "data": {
      "image/png": "[encoded data removed]",
      "text/plain": [
       "<Figure size 504x288 with 1 Axes>"
      ]
     },
     "metadata": {},
     "output_type": "display_data"
    }
   ],
   "source": [
    "plt.figure\n",
    "from matplotlib.ticker import PercentFormatter\n",
    "\n",
    "fig = plt.figure(1, (7,4))\n",
    "ax = fig.add_subplot(1,1,1)\n",
    "\n",
    "\n",
    "plt.plot(result1_1_2.epoch,result1_1_2.history['val_acc'],label=\"0.01 Learning Rate\")\n",
    "plt.plot(result1_1_3.epoch,result1_1_3.history['val_acc'],label=\"0.001 Learning Rate\",alpha=0.5)\n",
    "plt.plot(result1_1_1.epoch,result1_1_1.history['val_acc'],label=\"0.0001 Learning Rate\")\n",
    "\n",
    "\n",
    "plt.scatter(result1_1_2.epoch,result1_1_2.history['val_acc'],marker='*')\n",
    "plt.scatter(result1_1_3.epoch,result1_1_3.history['val_acc'],marker='+')\n",
    "\n",
    "\n",
    "\n",
    "plt.legend(loc='best')\n",
    "\n",
    "ax.yaxis.set_major_formatter(PercentFormatter(1.0))\n",
    "plt.title('CNN Accuracy with Learning Rates')\n",
    "plt.xlabel('Epoch')\n",
    "plt.ylabel('Accuracy')\n",
    "plt.show()"
   ]
  },
  {
   "cell_type": "code",
   "execution_count": null,
   "metadata": {},
   "outputs": [],
   "source": []
  },
  {
   "cell_type": "code",
   "execution_count": 81,
   "metadata": {},
   "outputs": [],
   "source": [
    "batch_size = 32\n",
    "num_classes = 10\n",
    "epochs = 15\n",
    "data_augmentation = True "
   ]
  },
  {
   "cell_type": "code",
   "execution_count": 7,
   "metadata": {},
   "outputs": [],
   "source": [
    "model.add(Conv2D(32, (3, 3), padding='same',\n",
    "                 input_shape=x_train.shape[1:]))\n",
    "model.add(Activation('relu'))\n",
    "model.add(Conv2D(32, (3, 3)))\n",
    "model.add(Activation('relu'))\n",
    "model.add(MaxPooling2D(pool_size=(2, 2)))\n",
    "model.add(Dropout(0.25))\n",
    "\n",
    "model.add(Conv2D(64, (3, 3), padding='same'))\n",
    "model.add(Activation('relu'))\n",
    "model.add(Conv2D(64, (3, 3)))\n",
    "model.add(Activation('relu'))\n",
    "model.add(MaxPooling2D(pool_size=(2, 2)))\n",
    "model.add(Dropout(0.25))\n",
    "\n",
    "model.add(Flatten())\n",
    "model.add(Dense(512))\n",
    "model.add(Activation('relu'))\n",
    "model.add(Dropout(0.5))\n",
    "model.add(Dense(num_classes))\n",
    "model.add(Activation('softmax'))"
   ]
  },
  {
   "cell_type": "code",
   "execution_count": 8,
   "metadata": {},
   "outputs": [],
   "source": [
    "\n",
    "opt = keras.optimizers.rmsprop(lr=0.0001, decay=1e-6)\n",
    "\n",
    "\n",
    "model.compile(loss='categorical_crossentropy',\n",
    "              optimizer=opt,\n",
    "              metrics=['accuracy'])"
   ]
  },
  {
   "cell_type": "code",
   "execution_count": 29,
   "metadata": {},
   "outputs": [],
   "source": [
    "x_train = x_train.astype('float32')\n",
    "x_test = x_test.astype('float32')\n",
    "x_train /= 255\n",
    "x_test /= 255"
   ]
  },
  {
   "cell_type": "code",
   "execution_count": 10,
   "metadata": {},
   "outputs": [
    {
     "name": "stdout",
     "output_type": "stream",
     "text": [
      "Train on 50000 samples, validate on 10000 samples\n",
      "Epoch 1/15\n",
      "50000/50000 [==============================] - 175s 3ms/step - loss: 1.8436 - acc: 0.3250 - val_loss: 1.6456 - val_acc: 0.4028\n",
      "Epoch 2/15\n",
      "50000/50000 [==============================] - 172s 3ms/step - loss: 1.5354 - acc: 0.4422 - val_loss: 1.3825 - val_acc: 0.4937\n",
      "Epoch 3/15\n",
      "50000/50000 [==============================] - 197s 4ms/step - loss: 1.3857 - acc: 0.5019 - val_loss: 1.2407 - val_acc: 0.5592\n",
      "Epoch 4/15\n",
      "50000/50000 [==============================] - 223s 4ms/step - loss: 1.2702 - acc: 0.5488 - val_loss: 1.1556 - val_acc: 0.5941\n",
      "Epoch 5/15\n",
      "50000/50000 [==============================] - 171s 3ms/step - loss: 1.1769 - acc: 0.5842 - val_loss: 1.0670 - val_acc: 0.6288\n",
      "Epoch 6/15\n",
      "50000/50000 [==============================] - 169s 3ms/step - loss: 1.1054 - acc: 0.6118 - val_loss: 1.0084 - val_acc: 0.6465\n",
      "Epoch 7/15\n",
      "50000/50000 [==============================] - 159s 3ms/step - loss: 1.0503 - acc: 0.6319 - val_loss: 0.9659 - val_acc: 0.6620\n",
      "Epoch 8/15\n",
      "50000/50000 [==============================] - 176s 4ms/step - loss: 0.9964 - acc: 0.6510 - val_loss: 0.9277 - val_acc: 0.6799\n",
      "Epoch 9/15\n",
      "50000/50000 [==============================] - 172s 3ms/step - loss: 0.9589 - acc: 0.6659 - val_loss: 0.9050 - val_acc: 0.6852\n",
      "Epoch 10/15\n",
      "50000/50000 [==============================] - 162s 3ms/step - loss: 0.9206 - acc: 0.6781 - val_loss: 0.8809 - val_acc: 0.6934\n",
      "Epoch 11/15\n",
      "50000/50000 [==============================] - 204s 4ms/step - loss: 0.8890 - acc: 0.6904 - val_loss: 0.8395 - val_acc: 0.7076\n",
      "Epoch 12/15\n",
      "50000/50000 [==============================] - 258s 5ms/step - loss: 0.8633 - acc: 0.6992 - val_loss: 0.8389 - val_acc: 0.7170\n",
      "Epoch 13/15\n",
      "50000/50000 [==============================] - 255s 5ms/step - loss: 0.8443 - acc: 0.7077 - val_loss: 0.8066 - val_acc: 0.7229\n",
      "Epoch 14/15\n",
      "50000/50000 [==============================] - 274s 5ms/step - loss: 0.8241 - acc: 0.7116 - val_loss: 0.7829 - val_acc: 0.7321\n",
      "Epoch 15/15\n",
      "50000/50000 [==============================] - 270s 5ms/step - loss: 0.8080 - acc: 0.7200 - val_loss: 0.8078 - val_acc: 0.7223\n"
     ]
    }
   ],
   "source": [
    "result1 = model.fit(x_train, y_train,\n",
    "              batch_size=batch_size,\n",
    "              epochs=epochs,\n",
    "              validation_data=(x_test, y_test),\n",
    "              shuffle=True)"
   ]
  },
  {
   "cell_type": "code",
   "execution_count": 20,
   "metadata": {},
   "outputs": [
    {
     "data": {
      "image/png": "[encoded data removed]",
      "text/plain": [
       "<Figure size 504x288 with 1 Axes>"
      ]
     },
     "metadata": {},
     "output_type": "display_data"
    }
   ],
   "source": [
    "plt.figure\n",
    "from matplotlib.ticker import PercentFormatter\n",
    "\n",
    "fig = plt.figure(1, (7,4))\n",
    "ax = fig.add_subplot(1,1,1)\n",
    "\n",
    "plt.plot(result1.epoch,result1.history['acc'],label=\"Training Accuracy\")\n",
    "plt.plot(result1.epoch,result1.history['val_acc'],label=\"Validation Accuracy\")\n",
    "plt.scatter(result1.epoch,result1.history['acc'],marker='*')\n",
    "plt.scatter(result1.epoch,result1.history['val_acc'])\n",
    "plt.legend(loc='best')\n",
    "\n",
    "ax.yaxis.set_major_formatter(PercentFormatter(1.0))\n",
    "plt.title('CNN Epoch and Accuracy(15 Epoches)')\n",
    "plt.xlabel('Epoch')\n",
    "plt.ylabel('Accuracy')\n",
    "plt.show()"
   ]
  },
  {
   "cell_type": "code",
   "execution_count": 11,
   "metadata": {},
   "outputs": [],
   "source": [
    "# Save trained model\n",
    "model.save('cifar10_15_epochs.h5') "
   ]
  },
  {
   "cell_type": "code",
   "execution_count": 14,
   "metadata": {},
   "outputs": [
    {
     "name": "stdout",
     "output_type": "stream",
     "text": [
      "Train on 50000 samples, validate on 10000 samples\n",
      "Epoch 1/15\n",
      "50000/50000 [==============================] - 282s 6ms/step - loss: 0.7941 - acc: 0.7247 - val_loss: 0.7613 - val_acc: 0.7370\n",
      "Epoch 2/15\n",
      "50000/50000 [==============================] - 279s 6ms/step - loss: 0.7843 - acc: 0.7272 - val_loss: 0.7726 - val_acc: 0.7333\n",
      "Epoch 3/15\n",
      "50000/50000 [==============================] - 300s 6ms/step - loss: 0.7734 - acc: 0.7314 - val_loss: 0.7824 - val_acc: 0.7309\n",
      "Epoch 4/15\n",
      "50000/50000 [==============================] - 275s 6ms/step - loss: 0.7660 - acc: 0.7354 - val_loss: 0.8066 - val_acc: 0.7285\n",
      "Epoch 5/15\n",
      "50000/50000 [==============================] - 260s 5ms/step - loss: 0.7582 - acc: 0.7391 - val_loss: 0.7464 - val_acc: 0.7433\n",
      "Epoch 6/15\n",
      "50000/50000 [==============================] - 265s 5ms/step - loss: 0.7540 - acc: 0.7398 - val_loss: 0.7285 - val_acc: 0.7506\n",
      "Epoch 7/15\n",
      "50000/50000 [==============================] - 281s 6ms/step - loss: 0.7434 - acc: 0.7462 - val_loss: 0.7156 - val_acc: 0.7554\n",
      "Epoch 8/15\n",
      "50000/50000 [==============================] - 282s 6ms/step - loss: 0.7421 - acc: 0.7468 - val_loss: 0.6997 - val_acc: 0.7610\n",
      "Epoch 9/15\n",
      "50000/50000 [==============================] - 266s 5ms/step - loss: 0.7340 - acc: 0.7494 - val_loss: 0.7570 - val_acc: 0.7466\n",
      "Epoch 10/15\n",
      "50000/50000 [==============================] - 262s 5ms/step - loss: 0.7274 - acc: 0.7536 - val_loss: 0.7369 - val_acc: 0.7498\n",
      "Epoch 11/15\n",
      "50000/50000 [==============================] - 277s 6ms/step - loss: 0.7216 - acc: 0.7536 - val_loss: 0.7168 - val_acc: 0.7559\n",
      "Epoch 12/15\n",
      "50000/50000 [==============================] - 278s 6ms/step - loss: 0.7182 - acc: 0.7558 - val_loss: 0.7119 - val_acc: 0.7612\n",
      "Epoch 13/15\n",
      "50000/50000 [==============================] - 271s 5ms/step - loss: 0.7100 - acc: 0.7597 - val_loss: 0.6871 - val_acc: 0.7679\n",
      "Epoch 14/15\n",
      "50000/50000 [==============================] - 285s 6ms/step - loss: 0.7102 - acc: 0.7600 - val_loss: 0.7166 - val_acc: 0.7585\n",
      "Epoch 15/15\n",
      "50000/50000 [==============================] - 299s 6ms/step - loss: 0.7048 - acc: 0.7607 - val_loss: 0.6829 - val_acc: 0.7700\n"
     ]
    }
   ],
   "source": [
    "result2 = model.fit(x_train, y_train,\n",
    "              batch_size=batch_size,\n",
    "              epochs=epochs,\n",
    "              validation_data=(x_test, y_test),\n",
    "              shuffle=True)"
   ]
  },
  {
   "cell_type": "code",
   "execution_count": 19,
   "metadata": {},
   "outputs": [
    {
     "data": {
      "image/png": "[encoded data removed]",
      "text/plain": [
       "<Figure size 504x288 with 1 Axes>"
      ]
     },
     "metadata": {},
     "output_type": "display_data"
    }
   ],
   "source": [
    "plt.figure\n",
    "\n",
    "from matplotlib.ticker import PercentFormatter\n",
    "\n",
    "fig = plt.figure(1, (7,4))\n",
    "ax = fig.add_subplot(1,1,1)\n",
    "\n",
    "\n",
    "plt.plot(result2.epoch,result2.history['acc'],label=\"Training Accuracy\")\n",
    "plt.plot(result2.epoch,result2.history['val_acc'],label=\"Validation Accuracy\")\n",
    "plt.scatter(result2.epoch,result2.history['acc'],marker='*')\n",
    "plt.scatter(result2.epoch,result2.history['val_acc'])\n",
    "plt.legend(loc='best')\n",
    "\n",
    "\n",
    "ax.yaxis.set_major_formatter(PercentFormatter(1.0))\n",
    "plt.title('CNN Epoch and Accuracy(30 Epoches Total)')\n",
    "plt.xlabel('Epoch')\n",
    "plt.ylabel('Accuracy')\n",
    "plt.show()"
   ]
  },
  {
   "cell_type": "code",
   "execution_count": 21,
   "metadata": {},
   "outputs": [
    {
     "name": "stdout",
     "output_type": "stream",
     "text": [
      "_________________________________________________________________\n",
      "Layer (type)                 Output Shape              Param #   \n",
      "=================================================================\n",
      "conv2d_1 (Conv2D)            (None, 32, 32, 32)        896       \n",
      "_________________________________________________________________\n",
      "activation_1 (Activation)    (None, 32, 32, 32)        0         \n",
      "_________________________________________________________________\n",
      "conv2d_2 (Conv2D)            (None, 30, 30, 32)        9248      \n",
      "_________________________________________________________________\n",
      "activation_2 (Activation)    (None, 30, 30, 32)        0         \n",
      "_________________________________________________________________\n",
      "max_pooling2d_1 (MaxPooling2 (None, 15, 15, 32)        0         \n",
      "_________________________________________________________________\n",
      "dropout_1 (Dropout)          (None, 15, 15, 32)        0         \n",
      "_________________________________________________________________\n",
      "conv2d_3 (Conv2D)            (None, 15, 15, 64)        18496     \n",
      "_________________________________________________________________\n",
      "activation_3 (Activation)    (None, 15, 15, 64)        0         \n",
      "_________________________________________________________________\n",
      "conv2d_4 (Conv2D)            (None, 13, 13, 64)        36928     \n",
      "_________________________________________________________________\n",
      "activation_4 (Activation)    (None, 13, 13, 64)        0         \n",
      "_________________________________________________________________\n",
      "max_pooling2d_2 (MaxPooling2 (None, 6, 6, 64)          0         \n",
      "_________________________________________________________________\n",
      "dropout_2 (Dropout)          (None, 6, 6, 64)          0         \n",
      "_________________________________________________________________\n",
      "flatten_1 (Flatten)          (None, 2304)              0         \n",
      "_________________________________________________________________\n",
      "dense_1 (Dense)              (None, 512)               1180160   \n",
      "_________________________________________________________________\n",
      "activation_5 (Activation)    (None, 512)               0         \n",
      "_________________________________________________________________\n",
      "dropout_3 (Dropout)          (None, 512)               0         \n",
      "_________________________________________________________________\n",
      "dense_2 (Dense)              (None, 10)                5130      \n",
      "_________________________________________________________________\n",
      "activation_6 (Activation)    (None, 10)                0         \n",
      "=================================================================\n",
      "Total params: 1,250,858\n",
      "Trainable params: 1,250,858\n",
      "Non-trainable params: 0\n",
      "_________________________________________________________________\n"
     ]
    }
   ],
   "source": [
    "model.summary()"
   ]
  },
  {
   "cell_type": "code",
   "execution_count": 22,
   "metadata": {},
   "outputs": [],
   "source": [
    "\n",
    "predict_labels = model.predict_classes(x_test)\n",
    "predict_probs = model.predict_proba(x_test)"
   ]
  },
  {
   "cell_type": "code",
   "execution_count": 25,
   "metadata": {},
   "outputs": [],
   "source": [
    "label_name = ['airplane', 'automobile', 'bird', 'cat', 'deer', 'dog', 'frog', 'horse', 'ship', 'truck']"
   ]
  },
  {
   "cell_type": "code",
   "execution_count": 83,
   "metadata": {},
   "outputs": [],
   "source": [
    "\n",
    "def plot_test_pic(num):\n",
    "    for i in range(num):\n",
    "        plt.imshow(x_test[i])\n",
    "        plt.axis(\"off\")\n",
    "        \n",
    "        pred_index = predict_labels[i]\n",
    "        \n",
    "        test_pred = label_name[pred_index]\n",
    "        test_prob = predict_probs[i][pred_index]\n",
    "        print('\\n\\n This is a ' + test_pred + ' with ' + str(round(float(test_prob)*100,2)) + '% probability')\n",
    "        plt.show()"
   ]
  },
  {
   "cell_type": "code",
   "execution_count": 34,
   "metadata": {},
   "outputs": [
    {
     "data": {
      "text/plain": [
       "<matplotlib.image.AxesImage at 0xb2854f898>"
      ]
     },
     "execution_count": 34,
     "metadata": {},
     "output_type": "execute_result"
    },
    {
     "data": {
      "image/png": "[encoded data removed]",
      "text/plain": [
       "<Figure size 432x288 with 1 Axes>"
      ]
     },
     "metadata": {},
     "output_type": "display_data"
    }
   ],
   "source": [
    "plt.imshow(x_train[0])"
   ]
  },
  {
   "cell_type": "code",
   "execution_count": 35,
   "metadata": {},
   "outputs": [
    {
     "data": {
      "text/plain": [
       "<matplotlib.image.AxesImage at 0xb2b9381d0>"
      ]
     },
     "execution_count": 35,
     "metadata": {},
     "output_type": "execute_result"
    },
    {
     "data": {
      "image/png": "[encoded data removed]",
      "text/plain": [
       "<Figure size 432x288 with 1 Axes>"
      ]
     },
     "metadata": {},
     "output_type": "display_data"
    }
   ],
   "source": [
    "plt.imshow(x_train[1])"
   ]
  },
  {
   "cell_type": "code",
   "execution_count": 37,
   "metadata": {},
   "outputs": [
    {
     "data": {
      "text/plain": [
       "<matplotlib.image.AxesImage at 0xb28b7b4e0>"
      ]
     },
     "execution_count": 37,
     "metadata": {},
     "output_type": "execute_result"
    },
    {
     "data": {
      "image/png": "[encoded data removed]",
      "text/plain": [
       "<Figure size 432x288 with 1 Axes>"
      ]
     },
     "metadata": {},
     "output_type": "display_data"
    }
   ],
   "source": [
    "plt.imshow(x_train[3])"
   ]
  },
  {
   "cell_type": "code",
   "execution_count": 3,
   "metadata": {},
   "outputs": [],
   "source": [
    "acc_data=[0.462, 0.468,0.484, 0.406,0.77]\n",
    "import pandas as pd"
   ]
  },
  {
   "cell_type": "code",
   "execution_count": 4,
   "metadata": {},
   "outputs": [],
   "source": [
    "acc_data=pd.DataFrame(acc_data, columns=['Best Accuracy'], index=['SVM','KNN','NLC','Logstic Regression','CNN'])"
   ]
  },
  {
   "cell_type": "code",
   "execution_count": 6,
   "metadata": {},
   "outputs": [],
   "source": [
    "acc_data['Best Accuracy'] = pd.Series([\"{0:.2f}%\".format(val * 100) for val in acc_data['Best Accuracy']], index = acc_data.index)"
   ]
  },
  {
   "cell_type": "code",
   "execution_count": 7,
   "metadata": {},
   "outputs": [
    {
     "data": {
      "text/html": [
       "<div>\n",
       "<style scoped>\n",
       "    .dataframe tbody tr th:only-of-type {\n",
       "        vertical-align: middle;\n",
       "    }\n",
       "\n",
       "    .dataframe tbody tr th {\n",
       "        vertical-align: top;\n",
       "    }\n",
       "\n",
       "    .dataframe thead th {\n",
       "        text-align: right;\n",
       "    }\n",
       "</style>\n",
       "<table border=\"1\" class=\"dataframe\">\n",
       "  <thead>\n",
       "    <tr style=\"text-align: right;\">\n",
       "      <th></th>\n",
       "      <th>Best Accuracy</th>\n",
       "    </tr>\n",
       "  </thead>\n",
       "  <tbody>\n",
       "    <tr>\n",
       "      <th>SVM</th>\n",
       "      <td>46.20%</td>\n",
       "    </tr>\n",
       "    <tr>\n",
       "      <th>KNN</th>\n",
       "      <td>46.80%</td>\n",
       "    </tr>\n",
       "    <tr>\n",
       "      <th>NLC</th>\n",
       "      <td>48.40%</td>\n",
       "    </tr>\n",
       "    <tr>\n",
       "      <th>Logstic Regression</th>\n",
       "      <td>40.60%</td>\n",
       "    </tr>\n",
       "    <tr>\n",
       "      <th>CNN</th>\n",
       "      <td>77.00%</td>\n",
       "    </tr>\n",
       "  </tbody>\n",
       "</table>\n",
       "</div>"
      ],
      "text/plain": [
       "                   Best Accuracy\n",
       "SVM                       46.20%\n",
       "KNN                       46.80%\n",
       "NLC                       48.40%\n",
       "Logstic Regression        40.60%\n",
       "CNN                       77.00%"
      ]
     },
     "execution_count": 7,
     "metadata": {},
     "output_type": "execute_result"
    }
   ],
   "source": [
    "acc_data"
   ]
  },
  {
   "cell_type": "code",
   "execution_count": null,
   "metadata": {},
   "outputs": [],
   "source": []
  }
 ],
 "metadata": {
  "kernelspec": {
   "display_name": "Python 3",
   "language": "python",
   "name": "python3"
  },
  "language_info": {
   "codemirror_mode": {
    "name": "ipython",
    "version": 3
   },
   "file_extension": ".py",
   "mimetype": "text/x-python",
   "name": "python",
   "nbconvert_exporter": "python",
   "pygments_lexer": "ipython3",
   "version": "3.6.5"
  }
 },
 "nbformat": 4,
 "nbformat_minor": 2
}
